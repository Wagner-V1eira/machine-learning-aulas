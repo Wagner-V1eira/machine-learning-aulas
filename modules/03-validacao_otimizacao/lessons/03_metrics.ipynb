{
 "cells": [
  {
   "cell_type": "markdown",
   "id": "bedcbad5",
   "metadata": {},
   "source": [
    "# Métricas de Avaliação\n",
    "\n",
    "Este notebook apresenta as principais métricas para avaliação de modelos de classificação.\n"
   ]
  },
  {
   "cell_type": "code",
   "execution_count": 1,
   "id": "a86663c3",
   "metadata": {},
   "outputs": [],
   "source": [
    "# Imports básicos\n",
    "import numpy as np\n",
    "import pandas as pd\n",
    "import matplotlib.pyplot as plt\n",
    "from sklearn.datasets import make_classification\n",
    "from sklearn.model_selection import train_test_split\n",
    "from sklearn.tree import DecisionTreeClassifier\n",
    "from sklearn.metrics import (\n",
    "    accuracy_score,\n",
    "    precision_score,\n",
    "    recall_score,\n",
    "    f1_score,\n",
    "    confusion_matrix,\n",
    "    classification_report,\n",
    "    roc_auc_score,\n",
    "    roc_curve,\n",
    ")\n",
    "import seaborn as sns\n",
    "\n",
    "# Configuração de plotting\n",
    "plt.style.use(\"seaborn-v0_8\")\n",
    "plt.rcParams[\"figure.figsize\"] = (10, 6)"
   ]
  },
  {
   "cell_type": "markdown",
   "id": "f0c23a47",
   "metadata": {},
   "source": [
    "## Objetivos da Aula\n",
    "\n",
    "- Accuracy, Precision, Recall, F1-Score\n",
    "- Confusion Matrix\n",
    "- ROC Curve e AUC\n",
    "- Escolha da métrica adequada\n"
   ]
  },
  {
   "cell_type": "code",
   "execution_count": 2,
   "id": "3ea38e0f",
   "metadata": {},
   "outputs": [
    {
     "name": "stdout",
     "output_type": "stream",
     "text": [
      "Dataset criado:\n",
      "- Treino: 700 amostras\n",
      "- Teste: 300 amostras\n",
      "- Distribuição treino: [351 349]\n",
      "- Distribuição teste: [150 150]\n",
      "\n",
      "✅ Modelo treinado e predições realizadas!\n"
     ]
    }
   ],
   "source": [
    "# Criação de dataset sintético para demonstração\n",
    "X, y = make_classification(\n",
    "    n_samples=1000, n_features=2, n_redundant=0, n_informative=2, n_clusters_per_class=1, random_state=42\n",
    ")\n",
    "\n",
    "# Split dos dados\n",
    "X_train, X_test, y_train, y_test = train_test_split(X, y, test_size=0.3, random_state=42, stratify=y)\n",
    "\n",
    "print(f\"Dataset criado:\")\n",
    "print(f\"- Treino: {X_train.shape[0]} amostras\")\n",
    "print(f\"- Teste: {X_test.shape[0]} amostras\")\n",
    "print(f\"- Distribuição treino: {np.bincount(y_train)}\")\n",
    "print(f\"- Distribuição teste: {np.bincount(y_test)}\")\n",
    "\n",
    "# Treinamento de um modelo para demonstração\n",
    "clf = DecisionTreeClassifier(random_state=42, max_depth=5)\n",
    "clf.fit(X_train, y_train)\n",
    "\n",
    "# Predições\n",
    "y_pred = clf.predict(X_test)\n",
    "y_proba = clf.predict_proba(X_test)[:, 1]  # Probabilidade da classe positiva\n",
    "\n",
    "print(\"\\n✅ Modelo treinado e predições realizadas!\")"
   ]
  },
  {
   "cell_type": "code",
   "execution_count": null,
   "id": "234d7c48",
   "metadata": {},
   "outputs": [],
   "source": [
    "# balanceado\n",
    "teste = 300\n",
    "classe_a = 150  # valor 0; verdadeiro; spam;\n",
    "classe_b = 150  # valor 1; false; não-spam;\n",
    "total = classe_a + classe_b  # =300\n",
    "# teste\n",
    "corretas = 280  # ~140 + 140 ... impossível 200 corretos de A (=<150) em média eu acertei 90%\n",
    "corretas_2 = 280  # ~  0 + 140 ... impossível 200 corretos de A (=<150) em média eu acertei 46%\n",
    "\n",
    "# não balanceado <- acurácia\n",
    "teste = 300\n",
    "classe_a = 50\n",
    "classe_b = 250\n",
    "# teste\n",
    "corretas = 280  # ~40 + 240 .. (=<50 e =<250), é possível? sim 90% <- qual classe eu errei mais? não\n",
    "corretas_2 = 280  # ~30 + 250 .. (=<50 e =<250), é possível? sim 90% <- qual classe eu errei mais? não\n",
    "corretas_3 = 200  # ~ 0 + 250 .. (=<50 e =<250), é possível? sim 83% <- eu NÃO APRENDI a classe 0"
   ]
  },
  {
   "cell_type": "markdown",
   "id": "6f6432dd",
   "metadata": {},
   "source": [
    "## 1. Métricas Básicas de Classificação\n",
    "\n",
    "### Accuracy (Acurácia)\n",
    "\n",
    "A **acurácia** é a métrica mais simples e intuitiva: proporção de predições corretas.\n",
    "\n",
    "$$\\text{Accuracy} = \\frac{\\text{Predições Corretas}}{\\text{Total de Predições}}$$\n",
    "\n",
    "É útil quando as classes estão balanceadas, mas pode ser enganosa em casos de desbalanceamento.\n"
   ]
  },
  {
   "cell_type": "code",
   "execution_count": 3,
   "id": "303043a6",
   "metadata": {},
   "outputs": [
    {
     "name": "stdout",
     "output_type": "stream",
     "text": [
      "📊 MÉTRICAS DE CLASSIFICAÇÃO\n",
      "========================================\n",
      "Accuracy:  0.923\n",
      "Precision: 0.926\n",
      "Recall:    0.920\n",
      "F1-Score:  0.923\n"
     ]
    },
    {
     "data": {
      "image/png": "[encoded data removed]",
      "text/plain": [
       "<Figure size 800x500 with 1 Axes>"
      ]
     },
     "metadata": {},
     "output_type": "display_data"
    }
   ],
   "source": [
    "# Calculando métricas básicas\n",
    "accuracy = accuracy_score(y_test, y_pred)\n",
    "precision = precision_score(y_test, y_pred)\n",
    "recall = recall_score(y_test, y_pred)\n",
    "f1 = f1_score(y_test, y_pred)\n",
    "\n",
    "print(\"📊 MÉTRICAS DE CLASSIFICAÇÃO\")\n",
    "print(\"=\" * 40)\n",
    "print(f\"Accuracy:  {accuracy:.3f}\")\n",
    "print(f\"Precision: {precision:.3f}\")\n",
    "print(f\"Recall:    {recall:.3f}\")\n",
    "print(f\"F1-Score:  {f1:.3f}\")\n",
    "\n",
    "# Visualização das métricas\n",
    "metrics = [\"Accuracy\", \"Precision\", \"Recall\", \"F1-Score\"]\n",
    "values = [accuracy, precision, recall, f1]\n",
    "\n",
    "plt.figure(figsize=(8, 5))\n",
    "bars = plt.bar(metrics, values, color=[\"skyblue\", \"lightgreen\", \"coral\", \"gold\"])\n",
    "plt.ylim(0, 1)\n",
    "plt.ylabel(\"Score\")\n",
    "plt.title(\"Métricas de Classificação\")\n",
    "\n",
    "# Adicionar valores nas barras\n",
    "for bar, value in zip(bars, values):\n",
    "    plt.text(bar.get_x() + bar.get_width() / 2, bar.get_height() + 0.01, f\"{value:.3f}\", ha=\"center\", va=\"bottom\")\n",
    "\n",
    "plt.grid(True, alpha=0.3)\n",
    "plt.show()"
   ]
  },
  {
   "cell_type": "code",
   "execution_count": null,
   "id": "d1a38035",
   "metadata": {},
   "outputs": [],
   "source": [
    "\"\"\"\n",
    "TP -> true positives ou verdadeiros positivos\n",
    "significado: o modelo disse \"positivo (0..A)\" e realmente era positivo.\n",
    "\n",
    "TN -> true negatives ou verdadeiros negativos\n",
    "significado: o modelo disse \"negativo (1..B)\" e realmente era negativo.\n",
    "\n",
    "FP -> false positives ou falsos positivos\n",
    "significado: modelo disse \"positivo (A)\" mas na verdade era negativo (B)\n",
    "\n",
    "FN -> false negatives ou falsos negativos <------\n",
    "significado: modelo disse \"negativo (B)\" mas na verdade era positivo (A)\n",
    "\"\"\"\n",
    "\n",
    "# não balanceado\n",
    "teste = 300\n",
    "classe_a = 50\n",
    "classe_b = 250\n",
    "# teste\n",
    "corretas = 200  # ~ 0 + 250 .. (=<50 e =<250), é possível? sim 83% acurácia"
   ]
  },
  {
   "cell_type": "markdown",
   "id": "b84a23df",
   "metadata": {},
   "source": [
    "### Precision, Recall e F1-Score\n",
    "\n",
    "Para entender essas métricas, precisamos dos conceitos de **True Positives (TP)**, **False Positives (FP)**, **True Negatives (TN)** e **False Negatives (FN)**.\n",
    "\n",
    "**Precision (Precisão)**: Das predições positivas, quantas estavam corretas? (não quero classificar o e-mail importante como SPAM)\n",
    "$$\\text{Precision} = \\frac{TP}{TP + FP}$$\n",
    "\n",
    "**Recall (Revocação/Sensibilidade)**: Dos casos positivos reais, quantos foram identificados? (melhor soar o alarme de incêndio mesmo sem fogo!)\n",
    "$$\\text{Recall} = \\frac{TP}{TP + FN}$$\n",
    "\n",
    "**F1-Score**: Média harmônica entre Precision e Recall\n",
    "$$\\text{F1} = 2 \\times \\frac{\\text{Precision} \\times \\text{Recall}}{\\text{Precision} + \\text{Recall}}$$\n"
   ]
  },
  {
   "cell_type": "markdown",
   "id": "e601e95c",
   "metadata": {},
   "source": [
    "## 2. Confusion Matrix (Matriz de Confusão)\n",
    "\n",
    "A **matriz de confusão** é uma tabela que mostra as predições corretas e incorretas para cada classe, permitindo uma análise detalhada dos erros do modelo.\n"
   ]
  },
  {
   "cell_type": "code",
   "execution_count": 4,
   "id": "c462647a",
   "metadata": {},
   "outputs": [
    {
     "data": {
      "image/png": "[encoded data removed]",
      "text/plain": [
       "<Figure size 800x600 with 2 Axes>"
      ]
     },
     "metadata": {},
     "output_type": "display_data"
    },
    {
     "name": "stdout",
     "output_type": "stream",
     "text": [
      "📈 COMPONENTES DA MATRIZ DE CONFUSÃO\n",
      "=============================================\n",
      "True Negatives (TN):  139\n",
      "False Positives (FP): 11\n",
      "False Negatives (FN): 12\n",
      "True Positives (TP):  138\n",
      "\n",
      "📊 CÁLCULO MANUAL DAS MÉTRICAS\n",
      "=============================================\n",
      "Accuracy:  0.923\n",
      "Precision: 0.926\n",
      "Recall:    0.920\n",
      "Specificity: 0.927\n"
     ]
    }
   ],
   "source": [
    "# Criando e visualizando a matriz de confusão\n",
    "cm = confusion_matrix(y_test, y_pred)\n",
    "\n",
    "# Plotagem da matriz de confusão\n",
    "plt.figure(figsize=(8, 6))\n",
    "sns.heatmap(\n",
    "    cm, annot=True, fmt=\"d\", cmap=\"Blues\", xticklabels=[\"Classe 0\", \"Classe 1\"], yticklabels=[\"Classe 0\", \"Classe 1\"]\n",
    ")\n",
    "plt.title(\"Matriz de Confusão\")\n",
    "plt.xlabel(\"Predição\")\n",
    "plt.ylabel(\"Valor Real\")\n",
    "plt.show()\n",
    "\n",
    "# Extraindo valores da matriz\n",
    "tn, fp, fn, tp = cm.ravel()\n",
    "\n",
    "print(\"📈 COMPONENTES DA MATRIZ DE CONFUSÃO\")\n",
    "print(\"=\" * 45)\n",
    "print(f\"True Negatives (TN):  {tn}\")\n",
    "print(f\"False Positives (FP): {fp}\")\n",
    "print(f\"False Negatives (FN): {fn}\")\n",
    "print(f\"True Positives (TP):  {tp}\")\n",
    "\n",
    "print(\"\\n📊 CÁLCULO MANUAL DAS MÉTRICAS\")\n",
    "print(\"=\" * 45)\n",
    "print(f\"Accuracy:  {(tp + tn) / (tp + tn + fp + fn):.3f}\")\n",
    "print(f\"Precision: {tp / (tp + fp):.3f}\")\n",
    "print(f\"Recall:    {tp / (tp + fn):.3f}\")\n",
    "print(f\"Specificity: {tn / (tn + fp):.3f}\")  # Taxa de verdadeiros negativos"
   ]
  },
  {
   "cell_type": "code",
   "execution_count": 5,
   "id": "4d1486e4",
   "metadata": {},
   "outputs": [
    {
     "name": "stdout",
     "output_type": "stream",
     "text": [
      "📋 CLASSIFICATION REPORT\n",
      "==================================================\n",
      "              precision    recall  f1-score   support\n",
      "\n",
      "    Classe 0       0.92      0.93      0.92       150\n",
      "    Classe 1       0.93      0.92      0.92       150\n",
      "\n",
      "    accuracy                           0.92       300\n",
      "   macro avg       0.92      0.92      0.92       300\n",
      "weighted avg       0.92      0.92      0.92       300\n",
      "\n"
     ]
    }
   ],
   "source": [
    "# Classification Report - resumo completo\n",
    "print(\"📋 CLASSIFICATION REPORT\")\n",
    "print(\"=\" * 50)\n",
    "print(classification_report(y_test, y_pred, target_names=[\"Classe 0\", \"Classe 1\"]))"
   ]
  },
  {
   "cell_type": "markdown",
   "id": "66e833e7",
   "metadata": {},
   "source": [
    "## 3. ROC Curve e AUC\n",
    "\n",
    "A **ROC Curve** (Receiver Operating Characteristic) plota a Taxa de Verdadeiros Positivos vs Taxa de Falsos Positivos para diferentes thresholds.\n",
    "\n",
    "A **AUC** (Area Under Curve) quantifica a qualidade do modelo: quanto maior (próximo de 1), melhor.\n"
   ]
  },
  {
   "cell_type": "code",
   "execution_count": 6,
   "id": "dd170f99",
   "metadata": {},
   "outputs": [
    {
     "data": {
      "image/png": "[encoded data removed]",
      "text/plain": [
       "<Figure size 800x600 with 1 Axes>"
      ]
     },
     "metadata": {},
     "output_type": "display_data"
    },
    {
     "name": "stdout",
     "output_type": "stream",
     "text": [
      "🎯 AUC Score: 0.945\n",
      "📊 Interpretação: Excelente\n"
     ]
    }
   ],
   "source": [
    "# Calculando ROC Curve e AUC\n",
    "fpr, tpr, thresholds = roc_curve(y_test, y_proba)\n",
    "auc_score = roc_auc_score(y_test, y_proba)\n",
    "\n",
    "# Plotando ROC Curve\n",
    "plt.figure(figsize=(8, 6))\n",
    "plt.plot(fpr, tpr, linewidth=2, label=f\"ROC Curve (AUC = {auc_score:.3f})\")\n",
    "plt.plot([0, 1], [0, 1], \"k--\", linewidth=1, label=\"Random Classifier\")\n",
    "plt.xlim([0.0, 1.0])\n",
    "plt.ylim([0.0, 1.05])\n",
    "plt.xlabel(\"Taxa de Falsos Positivos (1 - Specificity)\")\n",
    "plt.ylabel(\"Taxa de Verdadeiros Positivos (Sensitivity)\")\n",
    "plt.title(\"ROC Curve\")\n",
    "plt.legend(loc=\"lower right\")\n",
    "plt.grid(True, alpha=0.3)\n",
    "plt.show()\n",
    "\n",
    "print(f\"🎯 AUC Score: {auc_score:.3f}\")\n",
    "\n",
    "# Interpretação do AUC\n",
    "if auc_score >= 0.9:\n",
    "    interpretation = \"Excelente\"\n",
    "elif auc_score >= 0.8:\n",
    "    interpretation = \"Bom\"\n",
    "elif auc_score >= 0.7:\n",
    "    interpretation = \"Regular\"\n",
    "elif auc_score >= 0.6:\n",
    "    interpretation = \"Ruim\"\n",
    "else:\n",
    "    interpretation = \"Muito Ruim\"\n",
    "\n",
    "print(f\"📊 Interpretação: {interpretation}\")"
   ]
  },
  {
   "cell_type": "markdown",
   "id": "ad23cf41",
   "metadata": {},
   "source": [
    "## 4. Escolha da Métrica Adequada\n",
    "\n",
    "A escolha da métrica depende do **contexto do problema** e do **custo dos erros**:\n",
    "\n",
    "### Quando usar cada métrica:\n",
    "\n",
    "**🎯 Accuracy**: Classes balanceadas e custos de erro similares\n",
    "\n",
    "**⚖️ Precision**: Quando **False Positives são custosos**\n",
    "\n",
    "- Ex: Diagnóstico médico (evitar alarmes falsos)\n",
    "- Ex: Spam detection (evitar marcar emails legítimos como spam)\n",
    "\n",
    "**🔍 Recall**: Quando **False Negatives são custosos**\n",
    "\n",
    "- Ex: Detecção de fraude (não pode deixar passar fraudes)\n",
    "- Ex: Diagnóstico de doenças graves (não pode deixar casos passarem)\n",
    "\n",
    "**🔄 F1-Score**: Balanceamento entre Precision e Recall\n",
    "\n",
    "**📈 AUC-ROC**: Avaliação geral, independente do threshold\n"
   ]
  },
  {
   "cell_type": "code",
   "execution_count": 7,
   "id": "194656e1",
   "metadata": {},
   "outputs": [
    {
     "name": "stdout",
     "output_type": "stream",
     "text": [
      "Dataset Desbalanceado:\n",
      "- Distribuição treino: [626  74]\n",
      "- Proporções: [0.89428571 0.10571429]\n",
      "\n",
      "📊 COMPARAÇÃO DE MÉTRICAS - Dataset Desbalanceado\n",
      "=======================================================\n",
      "Accuracy:  0.970\n",
      "Precision: 0.867\n",
      "Recall:    0.839\n",
      "F1-Score:  0.852\n",
      "AUC:       0.966\n",
      "\n",
      "🤖 Modelo 'ingênuo' (sempre classe majoritária): 0.897\n",
      "⚠️  Isso mostra por que accuracy pode ser enganosa!\n"
     ]
    }
   ],
   "source": [
    "# Exemplo prático: Dataset desbalanceado\n",
    "from sklearn.datasets import make_classification\n",
    "\n",
    "# Criando dataset desbalanceado (90% classe 0, 10% classe 1)\n",
    "X_imb, y_imb = make_classification(\n",
    "    n_samples=1000,\n",
    "    n_features=2,\n",
    "    n_redundant=0,\n",
    "    n_informative=2,\n",
    "    n_clusters_per_class=1,\n",
    "    weights=[0.9, 0.1],\n",
    "    random_state=42,\n",
    ")\n",
    "\n",
    "X_train_imb, X_test_imb, y_train_imb, y_test_imb = train_test_split(\n",
    "    X_imb, y_imb, test_size=0.3, random_state=42, stratify=y_imb\n",
    ")\n",
    "\n",
    "print(f\"Dataset Desbalanceado:\")\n",
    "print(f\"- Distribuição treino: {np.bincount(y_train_imb)}\")\n",
    "print(f\"- Proporções: {np.bincount(y_train_imb) / len(y_train_imb)}\")\n",
    "\n",
    "# Treinar modelo no dataset desbalanceado\n",
    "clf_imb = DecisionTreeClassifier(random_state=42, max_depth=5)\n",
    "clf_imb.fit(X_train_imb, y_train_imb)\n",
    "\n",
    "# Predições\n",
    "y_pred_imb = clf_imb.predict(X_test_imb)\n",
    "y_proba_imb = clf_imb.predict_proba(X_test_imb)[:, 1]\n",
    "\n",
    "# Comparando métricas\n",
    "print(\"\\n📊 COMPARAÇÃO DE MÉTRICAS - Dataset Desbalanceado\")\n",
    "print(\"=\" * 55)\n",
    "print(f\"Accuracy:  {accuracy_score(y_test_imb, y_pred_imb):.3f}\")\n",
    "print(f\"Precision: {precision_score(y_test_imb, y_pred_imb):.3f}\")\n",
    "print(f\"Recall:    {recall_score(y_test_imb, y_pred_imb):.3f}\")\n",
    "print(f\"F1-Score:  {f1_score(y_test_imb, y_pred_imb):.3f}\")\n",
    "print(f\"AUC:       {roc_auc_score(y_test_imb, y_proba_imb):.3f}\")\n",
    "\n",
    "# Modelo \"ingênuo\" que sempre prediz classe majoritária\n",
    "y_naive = np.zeros_like(y_test_imb)  # Sempre prediz classe 0\n",
    "accuracy_naive = accuracy_score(y_test_imb, y_naive)\n",
    "\n",
    "print(f\"\\n🤖 Modelo 'ingênuo' (sempre classe majoritária): {accuracy_naive:.3f}\")\n",
    "print(\"⚠️  Isso mostra por que accuracy pode ser enganosa!\")"
   ]
  },
  {
   "cell_type": "markdown",
   "id": "2d35491b",
   "metadata": {},
   "source": [
    "## 5. Resumo das Métricas\n",
    "\n",
    "### 📋 Checklist para Escolha de Métricas\n",
    "\n",
    "1. **Analisar o dataset**:\n",
    "\n",
    "   - Classes balanceadas ou desbalanceadas?\n",
    "   - Qual o tamanho dos dados?\n",
    "\n",
    "2. **Entender o problema**:\n",
    "\n",
    "   - Qual o custo de um falso positivo?\n",
    "   - Qual o custo de um falso negativo?\n",
    "   - Há preferência por sensibilidade ou especificidade?\n",
    "\n",
    "3. **Selecionar métricas apropriadas**:\n",
    "   - **Balanceado**: Accuracy, F1-Score, AUC\n",
    "   - **Desbalanceado**: Precision, Recall, F1-Score, AUC\n",
    "   - **Custo alto de FP**: Precision\n",
    "   - **Custo alto de FN**: Recall\n",
    "\n",
    "### 🎯 Principais Takeaways\n",
    "\n",
    "- **Accuracy não é sempre a melhor métrica**\n",
    "- **Precision vs Recall é um trade-off**\n",
    "- **F1-Score equilibra Precision e Recall**\n",
    "- **AUC é útil para comparar modelos**\n",
    "- **A escolha depende do contexto do negócio**\n"
   ]
  },
  {
   "cell_type": "code",
   "execution_count": 8,
   "id": "14a4499d",
   "metadata": {},
   "outputs": [
    {
     "name": "stdout",
     "output_type": "stream",
     "text": [
      "🏆 AVALIAÇÃO FINAL\n",
      "========================================\n",
      "📊 Decision Tree\n",
      "------------------------------\n",
      "Accuracy  : 0.923\n",
      "Precision : 0.926\n",
      "Recall    : 0.920\n",
      "F1-Score  : 0.923\n",
      "AUC       : 0.945\n",
      "\n",
      "✅ Lição 03 - Métricas de Avaliação concluída!\n",
      "Próxima aula: Hyperparameter Tuning\n"
     ]
    }
   ],
   "source": [
    "# Comparação final de métricas\n",
    "def evaluate_model(y_true, y_pred, y_proba, model_name=\"Modelo\"):\n",
    "    \"\"\"Função utilitária para avaliar um modelo com todas as métricas\"\"\"\n",
    "\n",
    "    results = {\n",
    "        \"Accuracy\": accuracy_score(y_true, y_pred),\n",
    "        \"Precision\": precision_score(y_true, y_pred),\n",
    "        \"Recall\": recall_score(y_true, y_pred),\n",
    "        \"F1-Score\": f1_score(y_true, y_pred),\n",
    "        \"AUC\": roc_auc_score(y_true, y_proba),\n",
    "    }\n",
    "\n",
    "    print(f\"📊 {model_name}\")\n",
    "    print(\"-\" * 30)\n",
    "    for metric, value in results.items():\n",
    "        print(f\"{metric:10}: {value:.3f}\")\n",
    "\n",
    "    return results\n",
    "\n",
    "\n",
    "# Avaliando nosso modelo principal\n",
    "print(\"🏆 AVALIAÇÃO FINAL\")\n",
    "print(\"=\" * 40)\n",
    "results = evaluate_model(y_test, y_pred, y_proba, \"Decision Tree\")\n",
    "\n",
    "print(f\"\\n✅ Lição 03 - Métricas de Avaliação concluída!\")\n",
    "print(\"Próxima aula: Hyperparameter Tuning\")"
   ]
  }
 ],
 "metadata": {
  "kernelspec": {
   "display_name": "ml-curso",
   "language": "python",
   "name": "python3"
  },
  "language_info": {
   "codemirror_mode": {
    "name": "ipython",
    "version": 3
   },
   "file_extension": ".py",
   "mimetype": "text/x-python",
   "name": "python",
   "nbconvert_exporter": "python",
   "pygments_lexer": "ipython3",
   "version": "3.12.9"
  }
 },
 "nbformat": 4,
 "nbformat_minor": 5
}
