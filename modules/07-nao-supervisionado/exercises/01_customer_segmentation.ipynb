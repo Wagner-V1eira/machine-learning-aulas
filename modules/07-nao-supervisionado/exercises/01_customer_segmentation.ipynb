{
 "cells": [
  {
   "cell_type": "markdown",
   "id": "80fe2c08",
   "metadata": {},
   "source": [
    "# Exercício: Segmentação de Clientes\n",
    "\n",
    "Este exercício aplica técnicas de clustering para segmentação de clientes.\n"
   ]
  },
  {
   "cell_type": "code",
   "execution_count": null,
   "id": "3ae0bfc6",
   "metadata": {},
   "outputs": [],
   "source": [
    "# Imports necessários\n",
    "import numpy as np\n",
    "import pandas as pd\n",
    "import matplotlib.pyplot as plt\n",
    "from sklearn.cluster import KMeans, AgglomerativeClustering\n",
    "from sklearn.preprocessing import StandardScaler\n",
    "from sklearn.decomposition import PCA\n",
    "from sklearn.metrics import silhouette_score\n",
    "import seaborn as sns\n",
    "\n",
    "# Configuração de plotting\n",
    "plt.style.use(\"seaborn-v0_8\")\n",
    "plt.rcParams[\"figure.figsize\"] = (10, 6)"
   ]
  },
  {
   "cell_type": "markdown",
   "id": "014e78f0",
   "metadata": {},
   "source": [
    "## Objetivos do Exercício\n",
    "\n",
    "- Aplicar clustering em dados reais\n",
    "- Preparar dados para clustering\n",
    "- Escolher número ótimo de clusters\n",
    "- Interpretar e visualizar resultados\n"
   ]
  },
  {
   "cell_type": "markdown",
   "id": "c37e75f4",
   "metadata": {},
   "source": [
    "## Tarefa 1: Preparação dos Dados\n",
    "\n",
    "Carregue e prepare dados de clientes para clustering.\n"
   ]
  },
  {
   "cell_type": "code",
   "execution_count": null,
   "id": "66211972",
   "metadata": {},
   "outputs": [],
   "source": [
    "# Criar dataset sintético de clientes\n",
    "np.random.seed(42)\n",
    "n_customers = 1000\n",
    "\n",
    "# Características dos clientes\n",
    "age = np.random.normal(40, 15, n_customers)\n",
    "income = np.random.normal(50000, 20000, n_customers)\n",
    "spending = np.random.normal(30000, 15000, n_customers)\n",
    "frequency = np.random.normal(20, 10, n_customers)\n",
    "\n",
    "# Criar DataFrame\n",
    "customers = pd.DataFrame(\n",
    "    {\"age\": age, \"annual_income\": income, \"annual_spending\": spending, \"purchase_frequency\": frequency}\n",
    ")\n",
    "\n",
    "# Seu código aqui para exploração"
   ]
  },
  {
   "cell_type": "markdown",
   "id": "82815044",
   "metadata": {},
   "source": [
    "## Tarefa 2: Aplicação de K-Means\n",
    "\n",
    "Aplique K-Means e encontre o número ótimo de clusters.\n"
   ]
  },
  {
   "cell_type": "code",
   "execution_count": null,
   "id": "8f6f3765",
   "metadata": {},
   "outputs": [],
   "source": [
    "# Seu código aqui"
   ]
  },
  {
   "cell_type": "markdown",
   "id": "34e8fe90",
   "metadata": {},
   "source": [
    "## Tarefa 3: Interpretação dos Clusters\n",
    "\n",
    "Analise e interprete os clusters encontrados.\n"
   ]
  },
  {
   "cell_type": "code",
   "execution_count": null,
   "id": "b6ff9c7e",
   "metadata": {},
   "outputs": [],
   "source": [
    "# Seu código aqui"
   ]
  }
 ],
 "metadata": {
  "language_info": {
   "name": "python"
  }
 },
 "nbformat": 4,
 "nbformat_minor": 5
}
