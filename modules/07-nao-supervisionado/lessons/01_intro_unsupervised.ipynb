{
 "cells": [
  {
   "cell_type": "markdown",
   "id": "5e6fd434",
   "metadata": {},
   "source": [
    "# Introdução ao Aprendizado Não Supervisionado\n",
    "\n",
    "Este notebook apresenta os conceitos fundamentais do aprendizado não supervisionado.\n"
   ]
  },
  {
   "cell_type": "code",
   "execution_count": null,
   "id": "1f6a881a",
   "metadata": {},
   "outputs": [],
   "source": [
    "# Imports básicos\n",
    "import numpy as np\n",
    "import pandas as pd\n",
    "import matplotlib.pyplot as plt\n",
    "from sklearn.datasets import make_blobs, load_iris\n",
    "from sklearn.preprocessing import StandardScaler\n",
    "import seaborn as sns\n",
    "\n",
    "# Configuração de plotting\n",
    "plt.style.use(\"seaborn-v0_8\")\n",
    "plt.rcParams[\"figure.figsize\"] = (10, 6)"
   ]
  },
  {
   "cell_type": "markdown",
   "id": "82b6a006",
   "metadata": {},
   "source": [
    "## Objetivos da Aula\n",
    "\n",
    "- Entender aprendizado não supervisionado\n",
    "- Tipos de problemas: clustering, redução de dimensionalidade\n",
    "- Diferenças com aprendizado supervisionado\n",
    "- Aplicações práticas\n"
   ]
  },
  {
   "cell_type": "code",
   "execution_count": null,
   "id": "1f4ce112",
   "metadata": {},
   "outputs": [],
   "source": []
  }
 ],
 "metadata": {
  "language_info": {
   "name": "python"
  }
 },
 "nbformat": 4,
 "nbformat_minor": 5
}
