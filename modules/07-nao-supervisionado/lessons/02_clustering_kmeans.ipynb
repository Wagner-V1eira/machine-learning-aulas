{
 "cells": [
  {
   "cell_type": "markdown",
   "id": "2eb28bac",
   "metadata": {},
   "source": [
    "# Clustering com K-Means\n",
    "\n",
    "Este notebook apresenta o algoritmo K-Means para clustering.\n"
   ]
  },
  {
   "cell_type": "code",
   "execution_count": null,
   "id": "3bcfaa40",
   "metadata": {},
   "outputs": [],
   "source": [
    "# Imports básicos\n",
    "import numpy as np\n",
    "import pandas as pd\n",
    "import matplotlib.pyplot as plt\n",
    "from sklearn.cluster import KMeans\n",
    "from sklearn.datasets import make_blobs, load_iris\n",
    "from sklearn.preprocessing import StandardScaler\n",
    "from sklearn.metrics import silhouette_score, adjusted_rand_score\n",
    "import seaborn as sns\n",
    "\n",
    "# Configuração de plotting\n",
    "plt.style.use(\"seaborn-v0_8\")\n",
    "plt.rcParams[\"figure.figsize\"] = (10, 6)"
   ]
  },
  {
   "cell_type": "markdown",
   "id": "322d1d37",
   "metadata": {},
   "source": [
    "## Objetivos da Aula\n",
    "\n",
    "- Entender o algoritmo K-Means\n",
    "- Escolha do número de clusters (Elbow Method)\n",
    "- Métricas de avaliação (Silhouette Score)\n",
    "- Limitações do K-Means\n"
   ]
  },
  {
   "cell_type": "code",
   "execution_count": null,
   "id": "62760cdf",
   "metadata": {},
   "outputs": [],
   "source": []
  }
 ],
 "metadata": {
  "language_info": {
   "name": "python"
  }
 },
 "nbformat": 4,
 "nbformat_minor": 5
}
