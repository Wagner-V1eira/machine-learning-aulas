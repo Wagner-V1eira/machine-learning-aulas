{
 "cells": [
  {
   "cell_type": "markdown",
   "id": "55900401",
   "metadata": {},
   "source": [
    "# Clustering Hierárquico\n",
    "\n",
    "Este notebook apresenta técnicas de clustering hierárquico.\n"
   ]
  },
  {
   "cell_type": "code",
   "execution_count": null,
   "id": "3cb70f8f",
   "metadata": {},
   "outputs": [],
   "source": [
    "# Imports básicos\n",
    "import numpy as np\n",
    "import pandas as pd\n",
    "import matplotlib.pyplot as plt\n",
    "from sklearn.cluster import AgglomerativeClustering\n",
    "from sklearn.datasets import make_blobs\n",
    "from scipy.cluster.hierarchy import dendrogram, linkage\n",
    "from scipy.spatial.distance import pdist\n",
    "import seaborn as sns\n",
    "\n",
    "# Configuração de plotting\n",
    "plt.style.use(\"seaborn-v0_8\")\n",
    "plt.rcParams[\"figure.figsize\"] = (10, 6)"
   ]
  },
  {
   "cell_type": "markdown",
   "id": "7c35bc95",
   "metadata": {},
   "source": [
    "## Objetivos da Aula\n",
    "\n",
    "- Clustering hierárquico aglomerativo\n",
    "- Dendrogramas\n",
    "- Critérios de linkage (single, complete, average, ward)\n",
    "- Comparação com K-Means\n"
   ]
  },
  {
   "cell_type": "code",
   "execution_count": null,
   "id": "672fa3b4",
   "metadata": {},
   "outputs": [],
   "source": []
  }
 ],
 "metadata": {
  "language_info": {
   "name": "python"
  }
 },
 "nbformat": 4,
 "nbformat_minor": 5
}
