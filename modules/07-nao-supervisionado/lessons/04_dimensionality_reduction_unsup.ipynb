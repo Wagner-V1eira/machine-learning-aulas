{
 "cells": [
  {
   "cell_type": "markdown",
   "id": "c955e115",
   "metadata": {},
   "source": [
    "# Redução de Dimensionalidade para Aprendizado Não Supervisionado\n",
    "\n",
    "Este notebook apresenta técnicas de redução de dimensionalidade em contextos não supervisionados.\n"
   ]
  },
  {
   "cell_type": "code",
   "execution_count": null,
   "id": "b93421ce",
   "metadata": {},
   "outputs": [],
   "source": [
    "# Imports básicos\n",
    "import numpy as np\n",
    "import pandas as pd\n",
    "import matplotlib.pyplot as plt\n",
    "from sklearn.decomposition import PCA\n",
    "from sklearn.manifold import TSNE\n",
    "from sklearn.datasets import load_digits, load_iris\n",
    "from sklearn.cluster import KMeans\n",
    "from sklearn.preprocessing import StandardScaler\n",
    "import seaborn as sns\n",
    "\n",
    "# Configuração de plotting\n",
    "plt.style.use(\"seaborn-v0_8\")\n",
    "plt.rcParams[\"figure.figsize\"] = (10, 6)"
   ]
  },
  {
   "cell_type": "markdown",
   "id": "143fef7d",
   "metadata": {},
   "source": [
    "## Objetivos da Aula\n",
    "\n",
    "- PCA para redução de dimensionalidade\n",
    "- t-SNE para visualização\n",
    "- Aplicação em clustering\n",
    "- Visualização de dados multidimensionais\n"
   ]
  },
  {
   "cell_type": "code",
   "execution_count": null,
   "id": "0f8acbcd",
   "metadata": {},
   "outputs": [],
   "source": []
  }
 ],
 "metadata": {
  "language_info": {
   "name": "python"
  }
 },
 "nbformat": 4,
 "nbformat_minor": 5
}
